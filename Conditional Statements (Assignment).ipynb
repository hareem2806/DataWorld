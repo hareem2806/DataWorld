{
 "cells": [
  {
   "cell_type": "markdown",
   "metadata": {},
   "source": [
    "1) A company decided to give bonus of 5% to employee if his/her year of service is more than 5 years.\n",
    "Ask user for their salary and year of service and print the net bonus amount."
   ]
  },
  {
   "cell_type": "code",
   "execution_count": 3,
   "metadata": {},
   "outputs": [
    {
     "name": "stdout",
     "output_type": "stream",
     "text": [
      "Enter your salary: 89000\n",
      "Enter your years of service: 7\n",
      "Your bonus amount is: $ 4450.0\n"
     ]
    }
   ],
   "source": [
    "salary = float(input(\"Enter your salary: \"))\n",
    "years_of_service = int(input(\"Enter your years of service: \"))\n",
    "\n",
    "\n",
    "if years_of_service > 5:\n",
    "    \n",
    "    bonus = 0.05 * salary\n",
    "    print(\"Your bonus amount is: $\", bonus)\n",
    "else:\n",
    "    print(\"You can't get a bonus.\")\n"
   ]
  },
  {
   "cell_type": "markdown",
   "metadata": {},
   "source": [
    "\n",
    "2) Write a program to check whether a person is eligible for voting or not. (accept age from user) if age is greater than 17 eligible otherwise not eligible"
   ]
  },
  {
   "cell_type": "code",
   "execution_count": 4,
   "metadata": {},
   "outputs": [
    {
     "name": "stdout",
     "output_type": "stream",
     "text": [
      "Enter your age: 23\n",
      "You are eligible for voting!\n"
     ]
    }
   ],
   "source": [
    "age = int(input(\"Enter your age: \"))\n",
    "\n",
    "if age > 17:\n",
    "    print(\"You are eligible for voting!\")\n",
    "else:\n",
    "    print(\"You are not eligible for voting yet.\")\n"
   ]
  },
  {
   "cell_type": "markdown",
   "metadata": {},
   "source": [
    "\n",
    "3) Write a program to check whether a number entered by user is even or odd."
   ]
  },
  {
   "cell_type": "code",
   "execution_count": 5,
   "metadata": {},
   "outputs": [
    {
     "name": "stdout",
     "output_type": "stream",
     "text": [
      "enter a number to check it's even or odd: 6789\n",
      "You entered an odd number\n"
     ]
    }
   ],
   "source": [
    "number=int(input(\"enter a number to check it's even or odd: \"))\n",
    "\n",
    "if(number%2==0):\n",
    "    print(\"You entered an even number\")\n",
    "else:\n",
    "    print(\"You entered an odd number\")"
   ]
  },
  {
   "cell_type": "markdown",
   "metadata": {},
   "source": [
    "4) Write a program to check whether a number is divisible by 7 or not.\n",
    "Show Answer"
   ]
  },
  {
   "cell_type": "code",
   "execution_count": 7,
   "metadata": {},
   "outputs": [
    {
     "name": "stdout",
     "output_type": "stream",
     "text": [
      "enter a number to check it's a multiple of 7 or not: 63\n",
      "You entered a multiple of 7\n"
     ]
    }
   ],
   "source": [
    "number=int(input(\"enter a number to check it's a multiple of 7 or not: \"))\n",
    "\n",
    "if(number%7==0):\n",
    "    print(\"You entered a multiple of 7\")\n",
    "else:\n",
    "    print(\"You entered a number which is not a multiple of 7\")"
   ]
  },
  {
   "cell_type": "markdown",
   "metadata": {},
   "source": [
    "5) Write a program to display \n",
    "\"Hello\" if a number entered by user is a multiple of five , otherwise print \"Bye\"."
   ]
  },
  {
   "cell_type": "code",
   "execution_count": 21,
   "metadata": {},
   "outputs": [
    {
     "name": "stdout",
     "output_type": "stream",
     "text": [
      "enter a number to check it's a multiple of 5 or not: 45\n",
      "Hello\n"
     ]
    }
   ],
   "source": [
    "number=int(input(\"enter a number to check it's a multiple of 5 or not: \"))\n",
    "\n",
    "if(number%5==0):\n",
    "    print(\"Hello\")\n",
    "else:\n",
    "    print(\"Bye\")"
   ]
  },
  {
   "cell_type": "markdown",
   "metadata": {},
   "source": [
    "7) Write a program to display the last digit of a number.\n"
   ]
  },
  {
   "cell_type": "code",
   "execution_count": 9,
   "metadata": {},
   "outputs": [
    {
     "name": "stdout",
     "output_type": "stream",
     "text": [
      "Enter a number: 45678\n",
      "The last digit of the number is: 8\n"
     ]
    }
   ],
   "source": [
    "number = int(input(\"Enter a number: \"))\n",
    "last_digit = number % 10\n",
    "print(\"The last digit of the number is:\", last_digit)\n"
   ]
  },
  {
   "cell_type": "markdown",
   "metadata": {},
   "source": [
    "9) Take values of length and breadth of a rectangle from user and print if it is square or rectangle."
   ]
  },
  {
   "cell_type": "code",
   "execution_count": 22,
   "metadata": {},
   "outputs": [
    {
     "name": "stdout",
     "output_type": "stream",
     "text": [
      "Enter the length of the rectangle: 3.4\n",
      "Enter the breadth of the rectangle: 6.7\n",
      "It is a rectangle.\n"
     ]
    }
   ],
   "source": [
    "length = float(input(\"Enter the length of the rectangle: \"))\n",
    "breadth = float(input(\"Enter the breadth of the rectangle: \"))\n",
    "\n",
    "if length == breadth:\n",
    "    print(\"It is a square.\")\n",
    "else:\n",
    "    print(\"It is a rectangle.\")\n"
   ]
  },
  {
   "cell_type": "markdown",
   "metadata": {},
   "source": [
    "10) Take two int values from user and print greatest among them."
   ]
  },
  {
   "cell_type": "code",
   "execution_count": 10,
   "metadata": {},
   "outputs": [
    {
     "name": "stdout",
     "output_type": "stream",
     "text": [
      "enter the first number: 13\n",
      "enter the second number: 56\n",
      "56\n"
     ]
    }
   ],
   "source": [
    "a=int(input(\"enter the first number: \"))\n",
    "b=int(input(\"enter the second number: \"))\n",
    "\n",
    "if(a>b):\n",
    "    print(a)\n",
    "else:\n",
    "    print(b)"
   ]
  },
  {
   "cell_type": "markdown",
   "metadata": {},
   "source": [
    "11) A shop will give discount of 10% if the cost of purchased quantity is more than 1000.\n",
    "Ask user for quantity\n",
    "Suppose, one unit will cost 100.\n",
    "Judge and print total cost for user."
   ]
  },
  {
   "cell_type": "code",
   "execution_count": 11,
   "metadata": {},
   "outputs": [
    {
     "name": "stdout",
     "output_type": "stream",
     "text": [
      "Enter the quantity purchased: 34000\n",
      "Total cost for the user is: $ 3060000.0\n"
     ]
    }
   ],
   "source": [
    "quantity = int(input(\"Enter the quantity purchased: \"))\n",
    "unit_cost = 100\n",
    "total_cost = quantity * unit_cost\n",
    "\n",
    "if total_cost > 1000:\n",
    "   \n",
    "    discount = 0.1 * total_cost\n",
    "    total_cost = total_cost-discount\n",
    "else:\n",
    "    prin(\"your purchased item is less than 1000\")\n",
    "\n",
    "print(\"Total cost for the user is: $\", total_cost)\n"
   ]
  },
  {
   "cell_type": "markdown",
   "metadata": {},
   "source": [
    "12) A school has following rules for grading system:\n",
    "\n",
    "a. Below 25 - F\n",
    "\n",
    "b. 25 to 45 - E\n",
    "\n",
    "c. 45 to 50 - D\n",
    "\n",
    "d. 50 to 60 - C\n",
    "\n",
    "e. 60 to 80 - B\n",
    "\n",
    "f. Above 80 - A\n",
    "\n",
    "Ask user to enter marks and print the corresponding grade."
   ]
  },
  {
   "cell_type": "code",
   "execution_count": 12,
   "metadata": {},
   "outputs": [
    {
     "name": "stdout",
     "output_type": "stream",
     "text": [
      "Enter your marks: 67\n",
      "Your grade is: B\n"
     ]
    }
   ],
   "source": [
    "marks = float(input(\"Enter your marks: \"))\n",
    "\n",
    "if marks < 25:\n",
    "    grade = 'F'\n",
    "elif marks >= 25 and marks < 45:\n",
    "    grade = 'E'\n",
    "elif marks >= 45 and marks < 50:\n",
    "    grade = 'D'\n",
    "elif marks >= 50 and marks < 60:\n",
    "    grade = 'C'\n",
    "elif marks >= 60 and marks < 80:\n",
    "    grade = 'B'\n",
    "else:\n",
    "    grade = 'A'\n",
    "\n",
    "print(\"Your grade is:\", grade)\n"
   ]
  },
  {
   "cell_type": "markdown",
   "metadata": {},
   "source": [
    "14)A student will not be allowed to sit in exam if his/her attendence is less than 75%.\n",
    "\n",
    "Take following input from user\n",
    "\n",
    "Number of classes held\n",
    "\n",
    "Number of classes attended.\n",
    "\n",
    "And print\n",
    "\n",
    "percentage of class attended\n",
    "\n",
    "Is student is allowed to sit in exam or not.\n"
   ]
  },
  {
   "cell_type": "code",
   "execution_count": 13,
   "metadata": {},
   "outputs": [
    {
     "name": "stdout",
     "output_type": "stream",
     "text": [
      "Enter the number of classes held: 45\n",
      "Enter the number of classes attended: 33\n",
      "Percentage of classes attended: 73.33333333333333 %\n",
      "Student is not allowed to sit in the exam.\n"
     ]
    }
   ],
   "source": [
    "classes_held = int(input(\"Enter the number of classes held: \"))\n",
    "classes_attended = int(input(\"Enter the number of classes attended: \"))\n",
    "\n",
    "attendance_percentage = (classes_attended / classes_held) * 100\n",
    "\n",
    "\n",
    "if attendance_percentage >= 75:\n",
    "    print(\"Percentage of classes attended:\", attendance_percentage, \"%\")\n",
    "    print(\"Student is allowed to sit in the exam.\")\n",
    "else:\n",
    "    print(\"Percentage of classes attended:\", attendance_percentage, \"%\")\n",
    "    print(\"Student is not allowed to sit in the exam.\")\n"
   ]
  },
  {
   "cell_type": "markdown",
   "metadata": {},
   "source": [
    "15) Modify the above question to allow student to sit if he/she has medical cause. Ask user if he/she has medical cause or not ( 'Y' or 'N' ) and print accordingly."
   ]
  },
  {
   "cell_type": "code",
   "execution_count": 14,
   "metadata": {},
   "outputs": [
    {
     "name": "stdout",
     "output_type": "stream",
     "text": [
      "Enter the number of classes held: 65\n",
      "Enter the number of classes attended: 43\n",
      "Do you have a medical cause? (Y/N): Y\n",
      "Percentage of classes attended: 66.15384615384615 %\n",
      "Student is allowed to sit in the exam due to a medical cause.\n"
     ]
    }
   ],
   "source": [
    "classes_held = int(input(\"Enter the number of classes held: \"))\n",
    "classes_attended = int(input(\"Enter the number of classes attended: \"))\n",
    "medical_cause = input(\"Do you have a medical cause? (Y/N): \")\n",
    "\n",
    "attendance_percentage = (classes_attended / classes_held) * 100\n",
    "\n",
    "if attendance_percentage >= 75:\n",
    "    print(\"Percentage of classes attended:\", attendance_percentage, \"%\")\n",
    "    print(\"Student is allowed to sit in the exam.\")\n",
    "else:\n",
    "    \n",
    "    if medical_cause == 'Y':\n",
    "        print(\"Percentage of classes attended:\", attendance_percentage, \"%\")\n",
    "        print(\"Student is allowed to sit in the exam due to a medical cause.\")\n",
    "    else:\n",
    "        print(\"Percentage of classes attended:\", attendance_percentage, \"%\")\n",
    "        print(\"Student is not allowed to sit in the exam.\")\n"
   ]
  },
  {
   "cell_type": "markdown",
   "metadata": {},
   "source": [
    "16) Write a program to check if a year is leap year or not.\n",
    "\n",
    "If a year is divisible by 4 then it is leap year but if the year is century year like 2000, 1900, 2100 then it must be divisible by 400."
   ]
  },
  {
   "cell_type": "code",
   "execution_count": 16,
   "metadata": {},
   "outputs": [
    {
     "name": "stdout",
     "output_type": "stream",
     "text": [
      "Enter a year: 2024\n",
      "2024 is a leap year.\n"
     ]
    }
   ],
   "source": [
    "year = int(input(\"Enter a year: \"))\n",
    "\n",
    "if (year % 4 == 0 ) or (year % 400 == 0):\n",
    "    print(year, \"is a leap year.\")\n",
    "else:\n",
    "    print(year, \"is not a leap year.\")\n"
   ]
  },
  {
   "cell_type": "markdown",
   "metadata": {},
   "source": [
    "17) Ask user to enter age, gender ( M or F ), marital status ( Y or N ) and then using following rules print their place of service.\n",
    "\n",
    "if employee is female, then she will work only in urban areas.\n",
    "\n",
    "if employee is a male and age is in between 20 to 40 then he may work in anywhere\n",
    "\n",
    "if employee is male and age is in between 40 t0 60 then he will work in urban areas only.\n",
    "\n",
    "And any other input of age should print \"ERROR\""
   ]
  },
  {
   "cell_type": "code",
   "execution_count": 17,
   "metadata": {},
   "outputs": [
    {
     "name": "stdout",
     "output_type": "stream",
     "text": [
      "Enter age: 23\n",
      "Enter gender (M or F): F\n",
      "Enter marital status (Y or N): N\n",
      "you can work only in urban areas\n"
     ]
    }
   ],
   "source": [
    "age = int(input(\"Enter age: \"))\n",
    "gender = input(\"Enter gender (M or F): \")\n",
    "marital_status = input(\"Enter marital status (Y or N): \")\n",
    "\n",
    "if (gender=='M'):\n",
    "    if(age>=20 and age<=40):\n",
    "            print(\"You can work anywhere\")\n",
    "    elif(age>=40 and age<=60):\n",
    "            print(\"You can work in urban areas\")\n",
    "    else:\n",
    "        print(\"ERROR\")\n",
    "        \n",
    "elif(gender=='F'):\n",
    "    print(\"you can work only in urban areas\")\n",
    "    \n",
    "\n",
    "\n",
    "    \n"
   ]
  },
  {
   "cell_type": "code",
   "execution_count": null,
   "metadata": {},
   "outputs": [],
   "source": []
  },
  {
   "cell_type": "markdown",
   "metadata": {},
   "source": [
    "6) Write a program to calculate the electricity bill (accept number of unit from user) according to the following criteria :\n",
    "     Unit                                                     Price  \n",
    "uptp 100 units                                             no charge\n",
    "Next 200 units                                              Rs 5 per unit\n",
    "After 200 units                                             Rs 10 per unit\n",
    "(For example if input unit is 350 than total bill amount is Rs.3500\n",
    "(For example if input unit is 97 than total bill amount is Rs.0\n",
    "(For example if input unit is 150 than total bill amount is Rs.750"
   ]
  },
  {
   "cell_type": "code",
   "execution_count": 18,
   "metadata": {},
   "outputs": [
    {
     "name": "stdout",
     "output_type": "stream",
     "text": [
      "Enter the number of units: 97\n",
      "Total bill amount is Rs. 0\n"
     ]
    }
   ],
   "source": [
    "units = int(input(\"Enter the number of units: \"))\n",
    "\n",
    "total_bill = 0\n",
    "\n",
    "if units <= 100:\n",
    "    total_bill = 0  \n",
    "elif units <= 300:\n",
    "    total_bill = (units - 100) * 5  \n",
    "elif units > 300:\n",
    "    total_bill = 200 * 5 + (units - 300) * 10  \n",
    "\n",
    "print(\"Total bill amount is Rs.\", total_bill)\n"
   ]
  },
  {
   "cell_type": "markdown",
   "metadata": {},
   "source": [
    "13) Take input of age of 3 people by user and determine oldest and youngest among them."
   ]
  },
  {
   "cell_type": "code",
   "execution_count": 20,
   "metadata": {},
   "outputs": [
    {
     "name": "stdout",
     "output_type": "stream",
     "text": [
      "Enter age of first person: 34\n",
      "Enter age of second person: 24\n",
      "Enter age of third person: 56\n",
      "The oldest person is 56 years old.\n",
      "The youngest person is 24 years old.\n"
     ]
    }
   ],
   "source": [
    "age1 = int(input(\"Enter age of first person: \"))\n",
    "age2 = int(input(\"Enter age of second person: \"))\n",
    "age3 = int(input(\"Enter age of third person: \"))\n",
    "\n",
    "# finding the oldest \n",
    "if (age1 >= age2) and (age1 >= age3):\n",
    "    oldest = age1\n",
    "elif age2 >= age1 and (age2 >= age3):\n",
    "    oldest = age2\n",
    "else:\n",
    "    oldest = age3\n",
    "\n",
    "# finding the youngest \n",
    "if (age1 <= age2) and (age1 <= age3):\n",
    "    youngest = age1\n",
    "elif (age2 <= age1) and (age2 <= age3):\n",
    "    youngest = age2\n",
    "else:\n",
    "    youngest = age3\n",
    "\n",
    "print(\"The oldest person is\", oldest, \"years old.\")\n",
    "print(\"The youngest person is\", youngest, \"years old.\")\n"
   ]
  },
  {
   "cell_type": "code",
   "execution_count": null,
   "metadata": {},
   "outputs": [],
   "source": []
  }
 ],
 "metadata": {
  "kernelspec": {
   "display_name": "Python 3 (ipykernel)",
   "language": "python",
   "name": "python3"
  },
  "language_info": {
   "codemirror_mode": {
    "name": "ipython",
    "version": 3
   },
   "file_extension": ".py",
   "mimetype": "text/x-python",
   "name": "python",
   "nbconvert_exporter": "python",
   "pygments_lexer": "ipython3",
   "version": "3.11.5"
  }
 },
 "nbformat": 4,
 "nbformat_minor": 2
}
