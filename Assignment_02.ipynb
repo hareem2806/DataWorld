{
 "cells": [
  {
   "cell_type": "markdown",
   "metadata": {
    "id": "bb0O0xtk1v9t"
   },
   "source": [
    "## Task 01:\n",
    "\n",
    "Print Your Name with your Father name and Date of birth using suitable escape sequence charactor\n",
    "\n"
   ]
  },
  {
   "cell_type": "code",
   "execution_count": 2,
   "metadata": {
    "id": "U7LLGIkO2Ixa"
   },
   "outputs": [
    {
     "name": "stdout",
     "output_type": "stream",
     "text": [
      "My Name:\tHareem Fatima\n",
      "Father's Name:\tWasi Haider\n",
      "DOB:\t\t28-06-2003\n"
     ]
    }
   ],
   "source": [
    "# Write your code here\n",
    "print(\"My Name:\\tHareem Fatima\\nFather's Name:\\tWasi Haider\\nDOB:\\t\\t28-06-2003\")"
   ]
  },
  {
   "cell_type": "markdown",
   "metadata": {
    "id": "TU-xwiLV2NgB"
   },
   "source": [
    "# Task 02:\n",
    "\n",
    "Write your small bio using variables and print it using print function"
   ]
  },
  {
   "cell_type": "code",
   "execution_count": 27,
   "metadata": {
    "id": "Dw8w3rwl2wDB"
   },
   "outputs": [
    {
     "name": "stdout",
     "output_type": "stream",
     "text": [
      "My name is  Hareem Fatima \n",
      "I am  20 years old.\n",
      "I study in NED University \n",
      "I am a student of BSCS\n"
     ]
    }
   ],
   "source": [
    "# Write your code here\n",
    "my_name=\"Hareem Fatima\"\n",
    "age=20\n",
    "uni=\"NED University\"\n",
    "degree=\"BSCS\"\n",
    "print(\"My name is \",my_name,\"\\nI am \",age, \"years old.\\nI study in\",uni,\"\\nI am a student of\",degree)"
   ]
  },
  {
   "cell_type": "markdown",
   "metadata": {
    "id": "F2lcZuDe2ztv"
   },
   "source": [
    "# Task 03:\n",
    "\n",
    "Write a program in which use all the operators we can use in Python"
   ]
  },
  {
   "cell_type": "code",
   "execution_count": 30,
   "metadata": {
    "id": "lEJhzsXh3e7K"
   },
   "outputs": [
    {
     "name": "stdout",
     "output_type": "stream",
     "text": [
      "Arithmetic Operators:\n",
      "Addition: 23\n",
      "Subtraction: 19\n",
      "Multiplication: 42\n",
      "Division: 10.5\n",
      "Modulo: 1\n",
      "Exponentiation: 441\n",
      "Floor Division:  10\n",
      "\n",
      "Comparison Operators:\n",
      "\n",
      "a > b: True\n",
      "a < b: False\n",
      "a >= b: True\n",
      "a <= b: False\n",
      "a == b: False\n",
      "a != b: True\n"
     ]
    }
   ],
   "source": [
    "# Write your code here\n",
    "a = 21\n",
    "b = 2\n",
    "\n",
    "addition = a + b\n",
    "subtraction = a - b\n",
    "multiplication = a * b\n",
    "division = a / b\n",
    "modulo = a % b\n",
    "exponent = a ** b\n",
    "floor_division = a // b\n",
    "\n",
    "print(\"Arithmetic Operators:\")\n",
    "print(\"Addition:\", addition)\n",
    "print(\"Subtraction:\", subtraction)\n",
    "print(\"Multiplication:\", multiplication)\n",
    "print(\"Division:\", division)\n",
    "print(\"Modulo:\", modulo)\n",
    "print(\"Exponentiation:\", exponent)\n",
    "print(\"Floor Division: \", floor_division)\n",
    "\n",
    "print(\"\\nComparison Operators:\\n\")\n",
    "print(\"a > b:\", a > b)\n",
    "print(\"a < b:\", a < b)\n",
    "print(\"a >= b:\", a >= b)\n",
    "print(\"a <= b:\", a <= b)\n",
    "print(\"a == b:\", a == b)\n",
    "print(\"a != b:\", a != b)\n"
   ]
  },
  {
   "cell_type": "markdown",
   "metadata": {
    "id": "i4N14TJU3l7n"
   },
   "source": [
    "# Task 04:\n",
    "\n",
    "\n",
    "1. Mention Marks of English , Islamiat and Maths out of 100 in 3 different variables\n",
    "\n",
    "2. Mention Variable of Total Marks and assign 300 to it\n",
    "\n",
    "3. Calculate Percentage"
   ]
  },
  {
   "cell_type": "code",
   "execution_count": 17,
   "metadata": {
    "id": "nxojzvRg5PP4"
   },
   "outputs": [
    {
     "name": "stdout",
     "output_type": "stream",
     "text": [
      "Your percentage is:  80.0 %\n"
     ]
    }
   ],
   "source": [
    "# Write your code here\n",
    "Total_Marks=300\n",
    "English=80\n",
    "Islamiat=75\n",
    "Maths=85\n",
    "percentage=(English+Islamiat+Maths)/Total_Marks * 100\n",
    "\n",
    "print(\"Your percentage is: \",percentage,\"%\")"
   ]
  },
  {
   "cell_type": "code",
   "execution_count": null,
   "metadata": {},
   "outputs": [],
   "source": []
  },
  {
   "cell_type": "code",
   "execution_count": null,
   "metadata": {},
   "outputs": [],
   "source": []
  },
  {
   "cell_type": "code",
   "execution_count": null,
   "metadata": {},
   "outputs": [],
   "source": []
  }
 ],
 "metadata": {
  "colab": {
   "provenance": []
  },
  "kernelspec": {
   "display_name": "Python 3 (ipykernel)",
   "language": "python",
   "name": "python3"
  },
  "language_info": {
   "codemirror_mode": {
    "name": "ipython",
    "version": 3
   },
   "file_extension": ".py",
   "mimetype": "text/x-python",
   "name": "python",
   "nbconvert_exporter": "python",
   "pygments_lexer": "ipython3",
   "version": "3.11.5"
  }
 },
 "nbformat": 4,
 "nbformat_minor": 1
}
